{
 "cells": [
  {
   "cell_type": "code",
   "execution_count": 1,
   "metadata": {},
   "outputs": [],
   "source": [
    "def insert_sort(A):\n",
    "    for j in range(1, len(A)):\n",
    "        key = A[j]\n",
    "        i = j - 1\n",
    "        while i >= 0 and A[i] > key:\n",
    "            A[i+1] = A[i]\n",
    "            i = i - 1\n",
    "        A[i+1] = key"
   ]
  },
  {
   "cell_type": "code",
   "execution_count": 2,
   "metadata": {},
   "outputs": [],
   "source": [
    "import numpy as np"
   ]
  },
  {
   "cell_type": "code",
   "execution_count": 3,
   "metadata": {},
   "outputs": [],
   "source": [
    "def generate_random_array(arraySize):\n",
    "    return np.random.randint(100, size = arraySize)"
   ]
  },
  {
   "cell_type": "code",
   "execution_count": 8,
   "metadata": {},
   "outputs": [],
   "source": [
    "def generate_ascending_array(arraySize):\n",
    "    return np.arange(arraySize)"
   ]
  },
  {
   "cell_type": "code",
   "execution_count": 18,
   "metadata": {},
   "outputs": [],
   "source": [
    "def generate_descending_array(arraySize):\n",
    "    return np.flip(np.arange(arraySize))"
   ]
  },
  {
   "cell_type": "code",
   "execution_count": 24,
   "metadata": {},
   "outputs": [],
   "source": [
    "import time\n"
   ]
  },
  {
   "cell_type": "code",
   "execution_count": 25,
   "metadata": {},
   "outputs": [],
   "source": [
    "def generate_best_measure(arraySize):\n",
    "    arr = generate_ascending_array(arraySize)\n",
    "    time_start = time.time()\n",
    "    insert_sort(arr)\n",
    "    time_end = time.time()\n",
    "    return time_end - time_start"
   ]
  },
  {
   "cell_type": "code",
   "execution_count": 26,
   "metadata": {},
   "outputs": [],
   "source": [
    "def generate_worst_measure(arraySize):\n",
    "    arr = generate_descending_array(arraySize)\n",
    "    time_start = time.time()\n",
    "    insert_sort(arr)\n",
    "    time_end = time.time()\n",
    "    return time_end - time_start"
   ]
  },
  {
   "cell_type": "code",
   "execution_count": 27,
   "metadata": {},
   "outputs": [],
   "source": [
    "def generate_average_measure(arraySize):\n",
    "    arr = generate_random_array(arraySize)\n",
    "    time_start = time.time()\n",
    "    insert_sort(arr)\n",
    "    time_end = time.time()\n",
    "    return time_end - time_start"
   ]
  },
  {
   "cell_type": "code",
   "execution_count": 28,
   "metadata": {},
   "outputs": [],
   "source": [
    "import matplotlib.pyplot as plt"
   ]
  },
  {
   "cell_type": "code",
   "execution_count": 29,
   "metadata": {},
   "outputs": [],
   "source": [
    "def generate_average_measure_10(arraySize):\n",
    "    total = 0\n",
    "    for i in range(10):\n",
    "        total += generate_average_measure(arraySize)\n",
    "    return total / 10"
   ]
  },
  {
   "cell_type": "code",
   "execution_count": null,
   "metadata": {},
   "outputs": [],
   "source": []
  }
 ],
 "metadata": {
  "kernelspec": {
   "display_name": "Python 3.10.6 64-bit",
   "language": "python",
   "name": "python3"
  },
  "language_info": {
   "codemirror_mode": {
    "name": "ipython",
    "version": 3
   },
   "file_extension": ".py",
   "mimetype": "text/x-python",
   "name": "python",
   "nbconvert_exporter": "python",
   "pygments_lexer": "ipython3",
   "version": "3.10.6"
  },
  "orig_nbformat": 4,
  "vscode": {
   "interpreter": {
    "hash": "b1be5a1e9e85905d3e4e97ef1b769f5caa870a8a58c9f9e0ae488b6f0a0e1baf"
   }
  }
 },
 "nbformat": 4,
 "nbformat_minor": 2
}
